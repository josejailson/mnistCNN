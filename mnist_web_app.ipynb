{
  "cells": [
    {
      "attachments": {},
      "cell_type": "markdown",
      "metadata": {},
      "source": [
        "# A deep learning web application"
      ]
    },
    {
      "attachments": {},
      "cell_type": "markdown",
      "metadata": {},
      "source": [
        "## Creating functions to handle MNIST dataset"
      ]
    },
    {
      "cell_type": "code",
      "execution_count": 13,
      "metadata": {
        "id": "pGUwT2BcyA4d"
      },
      "outputs": [],
      "source": [
        "import matplotlib.pyplot as plt\n",
        "import numpy as np\n",
        "from pathlib import Path"
      ]
    },
    {
      "cell_type": "code",
      "execution_count": 15,
      "metadata": {
        "id": "e2opgV7Prrsw"
      },
      "outputs": [],
      "source": [
        "def loadImageFile(fileimage):\n",
        "  f = open(fileimage, \"rb\")\n",
        "\n",
        "  f.read(16)\n",
        "  \n",
        "  pixels = 28*28\n",
        "  images_arr = []\n",
        "\n",
        "  while True:\n",
        "    try:\n",
        "      img = []\n",
        "      for j in range(pixels):\n",
        "        pix = ord(f.read(1))\n",
        "        img.append(pix / 255)\n",
        "      images_arr.append(img)\n",
        "    except:\n",
        "      break\n",
        "    \n",
        "  f.close()\n",
        "  image_sets = np.array(images_arr)\n",
        "  return image_sets"
      ]
    },
    {
      "cell_type": "code",
      "execution_count": 16,
      "metadata": {
        "id": "69BNluQZs8ey"
      },
      "outputs": [],
      "source": [
        "test_images = loadImageFile(\"train-images-idx3-ubyte\")"
      ]
    },
    {
      "cell_type": "code",
      "execution_count": 5,
      "metadata": {},
      "outputs": [],
      "source": [
        "image = test_images[0]"
      ]
    },
    {
      "cell_type": "code",
      "execution_count": 11,
      "metadata": {},
      "outputs": [],
      "source": [
        "np.save(\"img\", image)"
      ]
    },
    {
      "cell_type": "code",
      "execution_count": 53,
      "metadata": {
        "id": "oz1czW3ctB2L"
      },
      "outputs": [
        {
          "ename": "SyntaxError",
          "evalue": "invalid syntax. Perhaps you forgot a comma? (3912995864.py, line 5)",
          "output_type": "error",
          "traceback": [
            "\u001b[1;36m  Cell \u001b[1;32mIn[53], line 5\u001b[1;36m\u001b[0m\n\u001b[1;33m    plt.savefig(\"image.png\", bbox_inches=\"tight\" pad_inches=0)\u001b[0m\n\u001b[1;37m                                         ^\u001b[0m\n\u001b[1;31mSyntaxError\u001b[0m\u001b[1;31m:\u001b[0m invalid syntax. Perhaps you forgot a comma?\n"
          ]
        }
      ],
      "source": [
        "def gen_image(arr):\n",
        "  two_d = (np.reshape(arr, (28, 28))*255).astype(np.uint8)\n",
        "  plt.imshow(two_d, interpolation=\"nearest\", cmap=\"gray\")\n",
        "  plt.axis('off')\n",
        "  plt.savefig(\"image.png\", bbox_inches=\"tight\", pad_inches=0)\n",
        "  plt.show()\n",
        " "
      ]
    },
    {
      "cell_type": "code",
      "execution_count": 52,
      "metadata": {
        "colab": {
          "base_uri": "https://localhost:8080/",
          "height": 430
        },
        "id": "2jtYrqSOykPz",
        "outputId": "2c3b589c-75ce-4178-dcb9-6a1d879209f3"
      },
      "outputs": [
        {
          "data": {
            "image/png": "[encoded data removed]",
            "text/plain": [
              "<Figure size 640x480 with 1 Axes>"
            ]
          },
          "metadata": {},
          "output_type": "display_data"
        }
      ],
      "source": [
        "gen_image(test_images[0])"
      ]
    },
    {
      "cell_type": "code",
      "execution_count": 35,
      "metadata": {
        "id": "PT3WZwHWy7Tr"
      },
      "outputs": [],
      "source": [
        "def loadLabelFile(filelabel):\n",
        "  f = open(filelabel, \"rb\")\n",
        "\n",
        "  f.read(8)\n",
        "\n",
        "  labels_arr = []\n",
        "\n",
        "  while True:\n",
        "    row = [0 for x in range(10)]\n",
        "    try:\n",
        "      label = ord(f.read(1))\n",
        "      row[label] = 1\n",
        "      labels_arr.append(row)\n",
        "    except:\n",
        "        break\n",
        "\n",
        "  f.close()\n",
        "  label_sets = np.array(labels_arr)\n",
        "  return label_sets"
      ]
    },
    {
      "cell_type": "code",
      "execution_count": 36,
      "metadata": {
        "id": "_VHaj5kz5FI8"
      },
      "outputs": [],
      "source": [
        "test_labels = loadLabelFile(\"train-labels-idx1-ubyte\")"
      ]
    },
    {
      "cell_type": "code",
      "execution_count": 37,
      "metadata": {
        "colab": {
          "base_uri": "https://localhost:8080/"
        },
        "id": "MmkH_x6H6Xo_",
        "outputId": "cebec20f-abc2-4f65-aefc-0fbc68f15eab"
      },
      "outputs": [
        {
          "name": "stdout",
          "output_type": "stream",
          "text": [
            "[1 0 0 0 0 0 0 0 0 0]\n"
          ]
        }
      ],
      "source": [
        "print(test_labels[1])"
      ]
    },
    {
      "attachments": {},
      "cell_type": "markdown",
      "metadata": {
        "id": "exnyAtDl7LNO"
      },
      "source": [
        "## Creating a DNN model"
      ]
    },
    {
      "cell_type": "code",
      "execution_count": 38,
      "metadata": {
        "id": "-6OMCX857OA7"
      },
      "outputs": [],
      "source": [
        "import numpy as np\n",
        "import tensorflow as tf\n"
      ]
    },
    {
      "attachments": {},
      "cell_type": "markdown",
      "metadata": {
        "id": "8-M7GR997vx7"
      },
      "source": [
        "Getting the data sets"
      ]
    },
    {
      "cell_type": "code",
      "execution_count": 39,
      "metadata": {},
      "outputs": [],
      "source": [
        "def loadImageFile(fileimage):\n",
        "  f = open(fileimage, \"rb\")\n",
        "\n",
        "  f.read(16)\n",
        "  \n",
        "  pixels = 28*28\n",
        "  images_arr = []\n",
        "  while True:\n",
        "    try:\n",
        "      img = []\n",
        "      for j in range(pixels):\n",
        "        pix = ord(f.read(1))\n",
        "        img.append(pix / 255)\n",
        "      images_arr.append(img)\n",
        "    except:\n",
        "      break\n",
        "    \n",
        "  f.close()\n",
        "  image_sets = np.array(images_arr)\n",
        "  return image_sets"
      ]
    },
    {
      "cell_type": "code",
      "execution_count": 40,
      "metadata": {},
      "outputs": [],
      "source": [
        "def loadLabelFile(filelabel):\n",
        "  f = open(filelabel, \"rb\")\n",
        "\n",
        "  f.read(8)\n",
        "\n",
        "  labels_arr = []\n",
        "\n",
        "  while True:\n",
        "    row = [0 for x in range(10)]\n",
        "    try:\n",
        "      label = ord(f.read(1))\n",
        "      row[label] = 1\n",
        "      labels_arr.append(row)\n",
        "    except:\n",
        "        break\n",
        "\n",
        "  f.close()\n",
        "  label_sets = np.array(labels_arr)\n",
        "  return label_sets"
      ]
    },
    {
      "cell_type": "code",
      "execution_count": 41,
      "metadata": {
        "id": "VfJf6RgZ7eFj"
      },
      "outputs": [],
      "source": [
        "train_images = loadImageFile(\"train-images-idx3-ubyte\")\n",
        "train_labels = loadLabelFile(\"train-labels-idx1-ubyte\")\n",
        "\n",
        "test_images = loadImageFile(\"t10k-images-idx3-ubyte\")\n",
        "test_labels = loadLabelFile(\"t10k-labels-idx1-ubyte\")"
      ]
    },
    {
      "attachments": {},
      "cell_type": "markdown",
      "metadata": {},
      "source": [
        "Reshaping\n"
      ]
    },
    {
      "cell_type": "code",
      "execution_count": 42,
      "metadata": {},
      "outputs": [],
      "source": [
        "X_train = train_images.reshape(train_images.shape[0], 28, 28, 1)\n",
        "X_test = test_images.reshape(test_images.shape[0], 28, 28, 1)\n",
        "\n",
        "y_train = train_labels\n",
        "y_test = test_labels"
      ]
    },
    {
      "cell_type": "code",
      "execution_count": 43,
      "metadata": {
        "colab": {
          "base_uri": "https://localhost:8080/"
        },
        "id": "wjo04XCJ8ByJ",
        "outputId": "a2efa943-3961-4047-e077-80822374fb59"
      },
      "outputs": [],
      "source": [
        "model = tf.keras.Sequential([\n",
        "\n",
        "tf.keras.layers.Conv2D(32, kernel_size=3, input_shape=(28,28,1)),\n",
        "tf.keras.layers.Activation(\"relu\"),\n",
        "tf.keras.layers.BatchNormalization(axis=-1),\n",
        "\n",
        "tf.keras.layers.Conv2D(32, kernel_size=3),\n",
        "tf.keras.layers.Activation(\"relu\"),\n",
        "tf.keras.layers.MaxPool2D(pool_size=2),\n",
        "\n",
        "tf.keras.layers.BatchNormalization(axis=-1),\n",
        "tf.keras.layers.Conv2D(64, kernel_size=3),\n",
        "tf.keras.layers.Activation(\"relu\"),\n",
        "tf.keras.layers.BatchNormalization(axis=-1),\n",
        "tf.keras.layers.Conv2D(64, kernel_size=3),\n",
        "tf.keras.layers.Activation(\"relu\"),\n",
        "tf.keras.layers.MaxPool2D(pool_size=2),\n",
        "\n",
        "tf.keras.layers.Flatten(),\n",
        "\n",
        "tf.keras.layers.BatchNormalization(),\n",
        "tf.keras.layers.Dense(512, activation=\"relu\"),\n",
        "tf.keras.layers.BatchNormalization(),\n",
        "tf.keras.layers.Dropout(0.2),\n",
        "tf.keras.layers.Dense(10, activation=\"softmax\"),\n",
        "])\n",
        "\n"
      ]
    },
    {
      "cell_type": "code",
      "execution_count": 44,
      "metadata": {
        "id": "ki9BzRpM-xWu"
      },
      "outputs": [],
      "source": [
        "model.compile(loss=tf.keras.losses.categorical_crossentropy,\n",
        "              optimizer=tf.keras.optimizers.Adam(),\n",
        "              metrics=[\"accuracy\"])"
      ]
    },
    {
      "cell_type": "code",
      "execution_count": 45,
      "metadata": {
        "id": "WSMnv82Y-952"
      },
      "outputs": [
        {
          "name": "stdout",
          "output_type": "stream",
          "text": [
            "Epoch 1/10\n",
            "480/480 - 103s - loss: 0.1068 - accuracy: 0.9675 - val_loss: 0.2202 - val_accuracy: 0.9307 - 103s/epoch - 214ms/step\n",
            "Epoch 2/10\n",
            "480/480 - 97s - loss: 0.0341 - accuracy: 0.9893 - val_loss: 0.0379 - val_accuracy: 0.9901 - 97s/epoch - 201ms/step\n",
            "Epoch 3/10\n",
            "480/480 - 117s - loss: 0.0231 - accuracy: 0.9929 - val_loss: 0.0350 - val_accuracy: 0.9900 - 117s/epoch - 243ms/step\n",
            "Epoch 4/10\n",
            "480/480 - 105s - loss: 0.0175 - accuracy: 0.9941 - val_loss: 0.0414 - val_accuracy: 0.9900 - 105s/epoch - 220ms/step\n",
            "Epoch 5/10\n",
            "480/480 - 108s - loss: 0.0167 - accuracy: 0.9946 - val_loss: 0.0393 - val_accuracy: 0.9895 - 108s/epoch - 224ms/step\n",
            "Epoch 6/10\n",
            "480/480 - 107s - loss: 0.0163 - accuracy: 0.9944 - val_loss: 0.0308 - val_accuracy: 0.9921 - 107s/epoch - 223ms/step\n",
            "Epoch 7/10\n",
            "480/480 - 105s - loss: 0.0137 - accuracy: 0.9955 - val_loss: 0.0361 - val_accuracy: 0.9908 - 105s/epoch - 219ms/step\n",
            "Epoch 8/10\n",
            "480/480 - 127s - loss: 0.0113 - accuracy: 0.9961 - val_loss: 0.0403 - val_accuracy: 0.9896 - 127s/epoch - 266ms/step\n",
            "Epoch 9/10\n",
            "480/480 - 129s - loss: 0.0101 - accuracy: 0.9963 - val_loss: 0.0367 - val_accuracy: 0.9916 - 129s/epoch - 270ms/step\n",
            "Epoch 10/10\n",
            "480/480 - 116s - loss: 0.0086 - accuracy: 0.9968 - val_loss: 0.0470 - val_accuracy: 0.9908 - 116s/epoch - 242ms/step\n"
          ]
        },
        {
          "data": {
            "text/plain": [
              "<keras.callbacks.History at 0x1ffd96bbf50>"
            ]
          },
          "execution_count": 45,
          "metadata": {},
          "output_type": "execute_result"
        }
      ],
      "source": [
        "model.fit(X_train, y_train,\n",
        "          batch_size=100,\n",
        "          epochs=10,\n",
        "          verbose=2,\n",
        "          validation_split=0.2)"
      ]
    },
    {
      "cell_type": "code",
      "execution_count": 46,
      "metadata": {
        "id": "QTgRUCFz_VGy"
      },
      "outputs": [
        {
          "name": "stdout",
          "output_type": "stream",
          "text": [
            "313/313 [==============================] - 7s 22ms/step - loss: 0.0281 - accuracy: 0.9914\n",
            "Test loss: 0.028114592656493187\n",
            "Test accuracy: 0.9914000034332275\n"
          ]
        }
      ],
      "source": [
        "score = model.evaluate(X_test, y_test, verbose=1)\n",
        "\n",
        "print('Test loss:', score[0])\n",
        "print('Test accuracy:', score[1])"
      ]
    },
    {
      "cell_type": "code",
      "execution_count": 47,
      "metadata": {
        "id": "WibFoFLk_qwq"
      },
      "outputs": [],
      "source": [
        "model_json = model.to_json()\n",
        "with open(\"model.json\", \"w\") as json_file:\n",
        "  json_file.write(model_json)"
      ]
    },
    {
      "cell_type": "code",
      "execution_count": 48,
      "metadata": {
        "id": "aAHlUSEPACQz"
      },
      "outputs": [],
      "source": [
        "model.save_weights('weights.h5')"
      ]
    }
  ],
  "metadata": {
    "colab": {
      "provenance": []
    },
    "kernelspec": {
      "display_name": "Python 3",
      "name": "python3"
    },
    "language_info": {
      "codemirror_mode": {
        "name": "ipython",
        "version": 3
      },
      "file_extension": ".py",
      "mimetype": "text/x-python",
      "name": "python",
      "nbconvert_exporter": "python",
      "pygments_lexer": "ipython3",
      "version": "3.11.2"
    }
  },
  "nbformat": 4,
  "nbformat_minor": 0
}
